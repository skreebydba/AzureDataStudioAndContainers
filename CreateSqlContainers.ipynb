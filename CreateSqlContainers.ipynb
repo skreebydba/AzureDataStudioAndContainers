{
    "metadata": {
        "kernelspec": {
            "name": "powershell",
            "display_name": "PowerShell"
        },
        "language_info": {
            "name": "powershell",
            "codemirror_mode": "shell",
            "mimetype": "text/x-sh",
            "file_extension": ".ps1"
        }
    },
    "nbformat_minor": 2,
    "nbformat": 4,
    "cells": [
        {
            "cell_type": "markdown",
            "source": [
                "# Step 0 - Install Docker for Windows\r\n",
                "### Download the installer for Docker from Windows from this [link](https://hub.docker.com/editions/community/docker-ce-desktop-windows/).\r\n",
                "\r\n",
                "### Once the download completes, follow the instructions [here](https://docs.docker.com/docker-for-windows/install/) to install Docker.  Once the install completes, you will be ready to continue."
            ],
            "metadata": {
                "azdata_cell_guid": "c9421ea7-946c-4ffa-ba1a-2a77f9d7c2f1"
            }
        },
        {
            "cell_type": "markdown",
            "source": [
                "# Step 1 - To start the process, pull the latest image of SQL Server 2019 for Ubuntu.\n",
                "### You can get full list of SQL Server Docker images from [Docker Hub](https://hub.docker.com/_/microsoft-mssql-server).  Images are available for each release of SQL Server 2017 and 2019 from the GA version up to the most recent CU.\n",
                "\n",
                ""
            ],
            "metadata": {
                "azdata_cell_guid": "f7b27a4d-420d-4ada-89a7-8eb471a79fba"
            }
        },
        {
            "cell_type": "code",
            "source": [
                "docker pull mcr.microsoft.com/mssql/server:2019-latest"
            ],
            "metadata": {
                "azdata_cell_guid": "3d7238fd-de1e-4fd5-9ac2-d3384619187b"
            },
            "outputs": [],
            "execution_count": null
        },
        {
            "cell_type": "markdown",
            "source": [
                "## Step 2 - Create a SQL Server container using the latest image.  \r\n",
                "### The script below creates a Docker container using the latest version of SQL Server 2019 running on Ubuntu Linus.  The script uses the following variables:\r\n",
                "\r\n",
                "* $password - The sa password for the container and instance.\r\n",
                "* $containername - The name of your container.  If a name is not provided Docker will create one for you.\r\n",
                "* $port - The local port you will use to connect to the SQL Server instance.  This local port will be mapped to port 1433 in the container.\r\n",
                "* $image - The image you pulled in the previous step.\r\n",
                "\r\n",
                "### The docker run command contains parameters to accept to end user license agreement for SQL Server and to enable SQL Server Agent.\r\n",
                "\r\n",
                "\r\n",
                ""
            ],
            "metadata": {
                "azdata_cell_guid": "b9e9a89a-2f15-4f00-818d-ee4fafe8cc71"
            }
        },
        {
            "cell_type": "code",
            "source": [
                "$password = 'JuanS0t022';\r\n",
                "$containername = 'sqlserver2019';\r\n",
                "$port = 1436;\r\n",
                "$image = 'mcr.microsoft.com/mssql/server:2019-latest';\r\n",
                "docker run -e 'ACCEPT_EULA=Y' -e \"SA_PASSWORD=$password\" -e MSSQL_AGENT_ENABLED=True --name $containername -p \"$port`:1433\" -d $image;\r\n",
                ""
            ],
            "metadata": {
                "azdata_cell_guid": "fc493f78-cf2b-4298-a4a5-2ad6cc120979",
                "tags": []
            },
            "outputs": [],
            "execution_count": null
        },
        {
            "cell_type": "markdown",
            "source": [
                "# Step 3 - Copy WideWorldImporters backup to the container \r\n",
                "### Create a backup directory in your container.  Copy the backup file for WideWorldImporters to that directory. "
            ],
            "metadata": {
                "azdata_cell_guid": "896be646-3b9d-44c5-bb1b-11797dab95c2"
            }
        },
        {
            "cell_type": "code",
            "source": [
                "docker exec sqlserver2019 mkdir /var/opt/mssql/backup\r\n",
                "docker cp wwi.bak sqlserver2019:/var/opt/mssql/backup"
            ],
            "metadata": {
                "azdata_cell_guid": "5d1a7a09-189d-4c36-92fd-9497b27853f8",
                "tags": []
            },
            "outputs": [],
            "execution_count": null
        },
        {
            "cell_type": "markdown",
            "source": [
                "# Step 4 - Check the version of SQL Server running on the container\r\n",
                "### Use Invoke-Sqlcmd to run SELECT @@VERSION against the container."
            ],
            "metadata": {
                "azdata_cell_guid": "fc65b6df-e097-4d80-aff6-a0eaae3ad635"
            }
        },
        {
            "cell_type": "code",
            "source": [
                "$cred = Get-Credential -UserName sa -Message \"Enter the password for the sa account.\"\r\n",
                "Invoke-Sqlcmd -ServerInstance \"localhost,1436\" -Database master -Credential $cred -Query \"SELECT @@VERSION;\" | Out-GridView;"
            ],
            "metadata": {
                "azdata_cell_guid": "4f5462e0-6d07-48ea-be1a-2714f83e2d73"
            },
            "outputs": [],
            "execution_count": null
        },
        {
            "cell_type": "markdown",
            "source": [
                "# Step 5 - Restore the WideWorldImporters database copied in step 3\r\n",
                "### Use Invoke-Sqlcmd to restore the WideWorldImporters database from the backup file copied in step 3.  The $cred variable from step 4 can be reused."
            ],
            "metadata": {
                "azdata_cell_guid": "81f95f34-7fb4-4983-a660-560b13a7ecc8"
            }
        },
        {
            "cell_type": "code",
            "source": [
                "<# Restore WideWorldImporters using Invoke-Sqlcmd #>\r\n",
                "$query = @\"\r\n",
                "USE [master]\r\n",
                "RESTORE DATABASE [WideWorldImporters] \r\n",
                "FROM  DISK = N'/var/opt/mssql/backup/wwi.bak' \r\n",
                "WITH  FILE = 1,  \r\n",
                "MOVE N'WWI_Primary' TO N'/var/opt/mssql/data/WideWorldImporters.mdf',  \r\n",
                "MOVE N'WWI_UserData' TO N'/var/opt/mssql/data/WideWorldImporters_UserData.ndf',  \r\n",
                "MOVE N'WWI_Log' TO N'/var/opt/mssql/data/WideWorldImporters.ldf',  \r\n",
                "MOVE N'WWI_InMemory_Data_1' TO N'/var/opt/mssql/data/WideWorldImporters_InMemory_Data_1',  \r\n",
                "NOUNLOAD,  \r\n",
                "REPLACE,\r\n",
                "STATS = 5;\r\n",
                "\"@\r\n",
                "\r\n",
                "Invoke-Sqlcmd -ServerInstance \"localhost,1436\" -Database master -Credential $cred -Query $query;"
            ],
            "metadata": {
                "azdata_cell_guid": "319138e2-9af6-43e4-894d-396019a5a714",
                "tags": [
                    "hide_input"
                ]
            },
            "outputs": [],
            "execution_count": null
        },
        {
            "cell_type": "markdown",
            "source": [
                "# Step 6 - Execute Ola Hallengren's Maintenance Solution\r\n",
                "### Run the code block below to execute Ola Hallengren's Maintenance Solution on your container.  This will create backup jobs, index maintenance jobs, and integrity checking jobs."
            ],
            "metadata": {
                "azdata_cell_guid": "970efb3a-ad18-4ab6-9e5d-abcbfa4fb4f3"
            }
        },
        {
            "cell_type": "code",
            "source": [
                "$cred = Get-Credential -UserName sa -Message \"Enter the password for the sa account\"\r\n",
                "Invoke-Sqlcmd -ServerInstance \"localhost,1436\" -Database master -Credential $cred -InputFile \"C:\\Users\\fgill\\Documents\\GitHub\\AzureDataStudioAndContainers\\MaintenanceSolution.sql\";"
            ],
            "metadata": {
                "azdata_cell_guid": "32625e71-69fd-48c4-b366-c56d2dbaba99"
            },
            "outputs": [
                {
                    "name": "stdout",
                    "text": "",
                    "output_type": "stream"
                }
            ],
            "execution_count": 5
        },
        {
            "cell_type": "markdown",
            "source": [
                "# Step 7 - Create schedules for the Maintenance Solution Jobs\r\n",
                "### This will create the following schedules for the Maintenance Solution jobs.\r\n",
                "* "
            ],
            "metadata": {
                "azdata_cell_guid": "a1adc6ed-42fa-49fd-ac91-8a234ed301f3"
            }
        },
        {
            "cell_type": "code",
            "source": [
                "$cred = Get-Credential -UserName sa -Message \"Enter the password for the sa account\"\r\n",
                "Invoke-Sqlcmd -ServerInstance \"localhost,1436\" -Database master -Credential $cred -InputFile \"C:\\Users\\fgill\\Documents\\GitHub\\AzureDataStudioAndContainers\\ScheduleMaintenanceSolution.sql\";"
            ],
            "metadata": {
                "azdata_cell_guid": "551e2fb2-d8bb-4eae-994e-2fa189b14c4e"
            },
            "outputs": [
                {
                    "name": "stdout",
                    "text": "\nColumn1\n-------\n     12\n     13\n     14\n     15\n     16\n\n\n",
                    "output_type": "stream"
                }
            ],
            "execution_count": 7
        }
    ]
}